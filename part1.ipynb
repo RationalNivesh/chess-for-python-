import chess
board=chess.Board()
board.push_san("e4")
board.push_san("e5")

board
